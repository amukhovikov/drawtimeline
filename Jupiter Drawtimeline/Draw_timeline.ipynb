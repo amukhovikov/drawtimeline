{
 "cells": [
  {
   "cell_type": "markdown",
   "metadata": {},
   "source": [
    "<H1>Библиотеки</H1>"
   ]
  },
  {
   "cell_type": "code",
   "execution_count": null,
   "metadata": {},
   "outputs": [],
   "source": [
    "import matplotlib.pyplot as plt \n",
    "#import numpy as np\n",
    "import pandas as pd"
   ]
  },
  {
   "cell_type": "markdown",
   "metadata": {},
   "source": [
    "<H1>Загрузка данных из .CSV</H1>"
   ]
  },
  {
   "cell_type": "code",
   "execution_count": null,
   "metadata": {},
   "outputs": [],
   "source": [
    "colnames = [\"id\", \"system\", \"systemname\", \"start\", \"finish\", \"color\", \"desc\"]\n",
    "datatypes={\n",
    "    'id': 'int64',\n",
    "    'system': 'string',\n",
    "    'systemname': 'string',\n",
    "    'start': 'string',\n",
    "    'finish' : 'string',\n",
    "    'color' : 'string',\n",
    "    'desc' : 'string'\n",
    "    }\n",
    "\n",
    "df = pd.read_csv(\"render_input_rwa.csv\", header=None, skiprows=[0], engine='python', sep=';', dtype=datatypes, names= colnames)\n",
    "\n",
    "dataarr = []\n",
    "row = 0\n",
    "max_time = pd.to_timedelta('0:0:0')\n",
    "\n",
    "for i in df.iterrows():\n",
    "    temparr = {\n",
    "        'row' : row,\n",
    "        'id' : i[1]['id'],\n",
    "        'system' : i[1]['system'],\n",
    "        'systemname' : i[1]['systemname'],\n",
    "        'start' : pd.to_timedelta(i[1]['start']),\n",
    "        'finish' : pd.to_timedelta(i[1]['finish']),\n",
    "        'duration' : pd.to_timedelta(i[1]['finish']) - pd.to_timedelta(i[1]['start']),\n",
    "        'color' : i[1]['color'],\n",
    "        'desc' : i[1]['desc']\n",
    "    }\n",
    "    if max_time < temparr['finish']:\n",
    "        max_time = temparr['finish']\n",
    "    row += 1    \n",
    "    dataarr.append(temparr)\n",
    "\n",
    "data = pd.DataFrame(dataarr)\n",
    "data"
   ]
  },
  {
   "cell_type": "markdown",
   "metadata": {},
   "source": [
    "<H1>Подготовим данные для диаграммы</H1>"
   ]
  },
  {
   "cell_type": "code",
   "execution_count": null,
   "metadata": {},
   "outputs": [],
   "source": [
    "\n",
    "ch = pd.Series(data['duration'], index=data['row'])\n",
    "ch"
   ]
  },
  {
   "cell_type": "markdown",
   "metadata": {},
   "source": [
    "<H1>Вспомогательный массив с временем завершения</H1>"
   ]
  },
  {
   "cell_type": "code",
   "execution_count": null,
   "metadata": {},
   "outputs": [],
   "source": [
    "timrange = pd.Series(data['finish'])\n",
    "timrange"
   ]
  },
  {
   "cell_type": "markdown",
   "metadata": {},
   "source": [
    "<H1>Параметры диаграммы для проверки</H1>"
   ]
  },
  {
   "cell_type": "code",
   "execution_count": null,
   "metadata": {},
   "outputs": [],
   "source": [
    "print (f'Макс время на диаграмме: {max_time}')"
   ]
  },
  {
   "cell_type": "markdown",
   "metadata": {},
   "source": [
    "<H1>Отрисуем</H1>"
   ]
  },
  {
   "cell_type": "code",
   "execution_count": null,
   "metadata": {},
   "outputs": [],
   "source": [
    "chart = ch.plot(kind='barh', color=data['color'])\n",
    "chart.set_xlabel('Длительность')\n",
    "chart.set_ylabel('Система')\n",
    "\n",
    "chart"
   ]
  },
  {
   "cell_type": "code",
   "execution_count": null,
   "metadata": {},
   "outputs": [],
   "source": [
    "#https://uproger.com/3-unikalnye-diagrammy-sozdannye-s-pomoshhyu-matplotlib/\n",
    "\n",
    "\n",
    "import datetime\n",
    "import matplotlib.pyplot as plt\n",
    "from matplotlib.dates import datestr2num, DateFormatter, DayLocator\n",
    "from matplotlib.ticker import AutoMinorLocator\n",
    "from matplotlib.patches import Patch\n",
    "\n",
    "def gethours_timedelta (tt : pd.Timedelta):\n",
    "    hours, remainder = divmod(i.seconds, 3600)\n",
    "    minutes, seconds = divmod(remainder, 60)\n",
    "    return round((hours * 60 + minutes)/60, 1)\n",
    "\n",
    "def gethours_str (tt):\n",
    "    ts = str(tt)\n",
    "    hours = int(ts.split(' ')[2].split(':')[0])\n",
    "    minutes = int(ts.split(' ')[2].split(':')[1])\n",
    "    return round((hours * 60 + minutes)/60, 0)\n",
    "\n",
    "# Create dummy date\n",
    "#tasks = ['Task A', 'Task B', 'Task C', 'Task D', 'Task E', 'Task F', 'Task G', 'Task H', 'Task I', 'Task J']\n",
    "#start_dates = ['2023-02-25', '2023-03-10', '2023-03-13', '2023-03-23', '2023-04-01', '2023-04-05', '2023-04-12', '2023-04-20', '2023-04-24', '2023-05-02']\n",
    "#end_dates = ['2023-03-03', '2023-03-17', '2023-03-22', '2023-03-30', '2023-04-07', '2023-04-18', '2023-04-23', '2023-04-25', '2023-05-03', '2023-05-07']\n",
    "tasks = [ddd for ddd in data['system']]\n",
    "start_dates = [gethours_str(h) for h in data['start']]\n",
    "end_dates = [gethours_str(h) for h in data['finish']]\n",
    "durations = [int(gethours_str(h)) for h in data['duration']]\n",
    "\n",
    "print (tasks)\n",
    "print (start_dates)\n",
    "print (end_dates)\n",
    "print (durations)\n",
    "\n",
    "temp = pd.DataFrame({'system' : tasks, 'duration' : durations})\n",
    "temp.plot.barh (y='duration', x='system')\n",
    "\n",
    "\n",
    "\n",
    "# Setup the dates and calculate durations\n",
    "#start_dates = [datestr2num(d) for d in start_dates]\n",
    "#end_dates = [datestr2num(d) for d in end_dates]\n",
    "\n",
    "#durations = [(end - start) for start, end in zip(start_dates, end_dates)]\n",
    "\n",
    "\n",
    "fig, ax = plt.subplots(figsize=(15, 8), facecolor='#25253c')\n",
    "\n",
    "ax.set_facecolor('#25253c')\n",
    "\n",
    "# Create colours for each task based on categories\n",
    "colors = ['#7a5195', '#ef5675', '#ffa600'] \n",
    "task_colors = [colors[0]] * 3 + [colors[1]] * 4 + [colors[2]] * 3\n",
    "\n",
    "# Display the bars\n",
    "ax.barh(y=tasks, width=durations, left=start_dates, height=0.8) #, color=task_colors)\n",
    "\n",
    "ax.invert_yaxis()\n",
    "\n",
    "# Setup the x axis labels\n",
    "ax.set_xlim(start_dates[0], end_dates[-1])\n",
    "\n",
    "date_form = DateFormatter(\"%Y-%m-%d\")\n",
    "ax.xaxis.set_major_formatter(date_form)\n",
    "\n",
    "ax.xaxis.set_major_locator(DayLocator(interval=10))\n",
    "ax.xaxis.set_minor_locator(AutoMinorLocator(5))\n",
    "ax.tick_params(axis='x', which='minor', length=2, color='white', labelsize=6)\n",
    "\n",
    "ax.get_yaxis().set_visible(False)\n",
    "\n",
    "# Control the colour of the grid for major and minor lines\n",
    "ax.grid(True, axis='x', linestyle='-', color='#FFFFFF', alpha=0.2, which='major')\n",
    "ax.grid(True, axis='x', linestyle='-', color='#FFFFFF', alpha=0.05, which='minor')\n",
    "ax.set_axisbelow(True)\n",
    "\n",
    "# Add labels for each task. For padding, we can use an f-string and add some extra space\n",
    "for i, task in enumerate(tasks):\n",
    "    ax.text(start_dates[i], i, f'  {task}', ha='left', va='center', color='white', fontsize=12, fontweight='bold')\n",
    "\n",
    "# Add the current date line\n",
    "today = datetime.datetime.now().strftime(\"%Y-%m-%d\")\n",
    "today_num = datestr2num(today)\n",
    "ax.axvline(today_num, color='red', alpha=0.8)\n",
    "\n",
    "# Style ticks, labels and colours\n",
    "ax.tick_params(axis='both', colors='white')\n",
    "\n",
    "ax.set_xlabel('Date', color='white', fontsize=12)\n",
    "ax.set_title('Project Schedule', color='white', fontsize=14)\n",
    "\n",
    "# Hide spines so only bottom is visible\n",
    "ax.spines['left'].set_visible(False)\n",
    "ax.spines['top'].set_visible(False)\n",
    "ax.spines['right'].set_visible(False)\n",
    "\n",
    "\n",
    "plt.show()"
   ]
  },
  {
   "cell_type": "code",
   "execution_count": null,
   "metadata": {},
   "outputs": [],
   "source": [
    "#https://uproger.com/3-unikalnye-diagrammy-sozdannye-s-pomoshhyu-matplotlib/\n",
    "\n",
    "\n",
    "def gethours_timedelta (tt : pd.Timedelta):\n",
    "    hours, remainder = divmod(i.seconds, 3600)\n",
    "    minutes, seconds = divmod(remainder, 60)\n",
    "    return round((hours * 60 + minutes)/60, 1)\n",
    "\n",
    "def gethours_str (tt):\n",
    "    ts = str(tt)\n",
    "    hours = int(ts.split(' ')[2].split(':')[0])\n",
    "    minutes = int(ts.split(' ')[2].split(':')[1])\n",
    "    return round((hours * 60 + minutes)/60, 0)\n",
    "\n",
    "tasks = [ddd for ddd in data['desc']]\n",
    "start_dates = [gethours_str(h) for h in data['start']]\n",
    "end_dates = [gethours_str(h) for h in data['finish']]\n",
    "durations = [int(gethours_str(h)) for h in data['duration']]\n",
    "colors = [ccc for ccc in data['color']]\n",
    "\n",
    "print (tasks)\n",
    "print (start_dates) \n",
    "print (end_dates)\n",
    "print (durations)\n",
    "print (colors)\n",
    "temp = pd.DataFrame({'Этап' : tasks, 'Длительность' : durations})\n",
    "\n",
    "temp.plot.barh (y='Длительность', x='Этап', left=start_dates, color=colors)"
   ]
  },
  {
   "cell_type": "code",
   "execution_count": null,
   "metadata": {},
   "outputs": [],
   "source": [
    "#https://uproger.com/3-unikalnye-diagrammy-sozdannye-s-pomoshhyu-matplotlib/\n",
    "df = pd.read_excel(\"render_input_project.xlsx\")\n",
    "\n",
    "dataarr = []\n",
    "row = 0\n",
    "\n",
    "for i in df.iterrows():\n",
    "    temparr = {\n",
    "        'row' : row,\n",
    "        'id' : i[1]['id'],\n",
    "        'system' : i[1]['system'],\n",
    "        'systemname' : i[1]['systemname'],\n",
    "        'start' : i[1]['start'],\n",
    "        'finish' : i[1]['finish'],\n",
    "        'color' : i[1]['color'],\n",
    "        'desc' : i[1]['desc']\n",
    "    }\n",
    "\n",
    "    row += 1    \n",
    "    dataarr.append(temparr)\n",
    "\n",
    "data = df #pd.DataFrame(dataarr)\n",
    "print (data)\n",
    "\n",
    "def gethours_str (tt):\n",
    "    ts = str(tt)\n",
    "    hours = int(ts.split(' ')[-1].split(':')[0])\n",
    "    minutes = int(ts.split(' ')[-1].split(':')[1])\n",
    "    return round((hours * 60 + minutes)/60, 1)\n",
    "\n",
    "tasks = [ddd for ddd in data['systemname']]\n",
    "start_dates = [gethours_str(h) for h in data['start']]\n",
    "end_dates = [gethours_str(h) for h in data['finish']]\n",
    "durations = [fintim - startim for fintim,startim in zip(end_dates, start_dates)]\n",
    "colors = [ccc for ccc in data['color']]\n",
    "\n",
    "print (tasks)\n",
    "print (start_dates) \n",
    "print (end_dates)\n",
    "print (durations)\n",
    "print (colors)\n",
    "\n",
    "temp2 = pd.DataFrame({'Этап' : data['systemname'], 'Длительность' : durations})\n",
    "temp2.plot.barh (y='Длительность', x='Этап', left=start_dates, color=colors)\n"
   ]
  },
  {
   "cell_type": "markdown",
   "metadata": {},
   "source": [
    "<H1> РАБОЧИЙ ВАРИАНТ </H1>"
   ]
  },
  {
   "cell_type": "code",
   "execution_count": 35,
   "metadata": {},
   "outputs": [
    {
     "data": {
      "text/plain": [
       "<matplotlib.lines.Line2D at 0x226f22e7610>"
      ]
     },
     "execution_count": 35,
     "metadata": {},
     "output_type": "execute_result"
    },
    {
     "data": {
      "image/png": "[encoded data removed]",
      "text/plain": [
       "<Figure size 1200x500 with 1 Axes>"
      ]
     },
     "metadata": {},
     "output_type": "display_data"
    }
   ],
   "source": [
    "#https://uproger.com/3-unikalnye-diagrammy-sozdannye-s-pomoshhyu-matplotlib/\n",
    "\n",
    "import pandas as pd\n",
    "import matplotlib.pyplot as plt\n",
    "from matplotlib import gridspec\n",
    "from datetime import datetime\n",
    "\n",
    "data = pd.read_excel(\"render_big.xlsx\")\n",
    "\n",
    "# Перевод HH:MM в десятичную дробь\n",
    "def gethours (tt : datetime):\n",
    "    return round((tt.hour * 60 + tt.minute)/60, 1)\n",
    "\n",
    "# Время начала (начало прямоугольника)\n",
    "start_times = [gethours(h) for h in data['start']]\n",
    "\n",
    "# Длительность (ширина прямоугольника)\n",
    "durations = [gethours(fintim)- gethours(startim) for fintim,startim in zip(data['finish'], data['start'])]\n",
    "\n",
    "# Макс. время (для отметок на оси X)\n",
    "maxfinish = max(gethours(ff) for ff in (data['finish']))\n",
    "\n",
    "# Шрифт и размер графика\n",
    "plt.rcParams[\"font.family\"] = \"Arial\"\n",
    "fig, ax = plt.subplots(1, figsize=(12,4+int(len(data)/8)))\n",
    "\n",
    "# Рисование диаграммы\n",
    "bars = ax.barh (data['system'], durations, left=start_times,color=data['color'], align='center')\n",
    "#plt.tight_layout()\n",
    "\n",
    "# Сетка\n",
    "plt.grid(color='lightgray')\n",
    "ax.set_axisbelow(True)\n",
    "\n",
    "# Отметки на оси X\n",
    "ax.set_xticks([i for i in range(int(maxfinish) + 2)])\n",
    "\n",
    "# Подписи\n",
    "ax.bar_label(bars, label_type='edge', labels=data['desc'], zorder=2)\n",
    "\n",
    "# Вертикальная черта красным пунктиром\n",
    "ax.axvline(maxfinish, color=\"red\", linestyle=\"--\", zorder=3)\n"
   ]
  },
  {
   "cell_type": "code",
   "execution_count": null,
   "metadata": {},
   "outputs": [],
   "source": []
  }
 ],
 "metadata": {
  "kernelspec": {
   "display_name": ".venv",
   "language": "python",
   "name": "python3"
  },
  "language_info": {
   "codemirror_mode": {
    "name": "ipython",
    "version": 3
   },
   "file_extension": ".py",
   "mimetype": "text/x-python",
   "name": "python",
   "nbconvert_exporter": "python",
   "pygments_lexer": "ipython3",
   "version": "3.13.1"
  }
 },
 "nbformat": 4,
 "nbformat_minor": 2
}
